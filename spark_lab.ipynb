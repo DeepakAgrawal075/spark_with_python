{
 "cells": [
  {
   "cell_type": "code",
   "execution_count": null,
   "id": "6299e622",
   "metadata": {},
   "outputs": [],
   "source": [
    "# pip install pyspark\n",
    "# pip install findspark \n",
    "# pip show pyspark"
   ]
  },
  {
   "cell_type": "code",
   "execution_count": 11,
   "id": "6ac81968",
   "metadata": {},
   "outputs": [],
   "source": [
    "#import findspark\n",
    "#findspark.init()\n",
    "import pyspark\n",
    "from pyspark.sql import SparkSession\n",
    "spark = SparkSession.builder.master(\"local[*]\").appName(\"lab\").getOrCreate()"
   ]
  },
  {
   "cell_type": "code",
   "execution_count": 12,
   "id": "5caf1a64",
   "metadata": {},
   "outputs": [
    {
     "name": "stdout",
     "output_type": "stream",
     "text": [
      "The PySpark 3.5.1 version is running...\n"
     ]
    }
   ],
   "source": [
    "print(f'The PySpark {spark.version} version is running...')"
   ]
  },
  {
   "cell_type": "code",
   "execution_count": 13,
   "id": "10542144",
   "metadata": {},
   "outputs": [],
   "source": [
    "from pyspark.sql.functions import col,column,expr,lit\n",
    "from pyspark.sql import Row \n",
    "from pyspark.sql.types import StructType,StructField,StringType,LongType"
   ]
  },
  {
   "cell_type": "code",
   "execution_count": null,
   "id": "89e327ca",
   "metadata": {},
   "outputs": [],
   "source": [
    "# To Spark (in Python or R), there is no such thing as a Dataset. Everything is a DataFrame \n",
    "spark.range(2)"
   ]
  },
  {
   "cell_type": "code",
   "execution_count": null,
   "id": "03f8a9d0",
   "metadata": {},
   "outputs": [],
   "source": [
    "spark.range(2).collect()"
   ]
  },
  {
   "cell_type": "code",
   "execution_count": null,
   "id": "7ef1968f",
   "metadata": {},
   "outputs": [],
   "source": [
    "df = spark.read \\\n",
    "        .format(\"json\") \\\n",
    "        .load(\"/Applications/MAMP/htdocs/Spark-The-Definitive-Guide/data/flight-data/json/2015-summary.json\")"
   ]
  },
  {
   "cell_type": "code",
   "execution_count": null,
   "id": "8d5665ce",
   "metadata": {},
   "outputs": [],
   "source": [
    "df"
   ]
  },
  {
   "cell_type": "code",
   "execution_count": null,
   "id": "825dc735",
   "metadata": {},
   "outputs": [],
   "source": [
    "df.schema"
   ]
  },
  {
   "cell_type": "code",
   "execution_count": null,
   "id": "4aab24b2",
   "metadata": {},
   "outputs": [],
   "source": [
    "df.printSchema()"
   ]
  },
  {
   "cell_type": "code",
   "execution_count": null,
   "id": "b6d11ec4",
   "metadata": {},
   "outputs": [],
   "source": [
    "listOfRowObjects = df.collect()"
   ]
  },
  {
   "cell_type": "code",
   "execution_count": null,
   "id": "ba1c4204",
   "metadata": {},
   "outputs": [],
   "source": [
    "type(listOfRowObjects)"
   ]
  },
  {
   "cell_type": "code",
   "execution_count": null,
   "id": "ba280a24",
   "metadata": {},
   "outputs": [],
   "source": [
    "len(listOfRowObjects)"
   ]
  },
  {
   "cell_type": "code",
   "execution_count": null,
   "id": "1775340f",
   "metadata": {},
   "outputs": [],
   "source": [
    "type(listOfRowObjects[0])"
   ]
  },
  {
   "cell_type": "code",
   "execution_count": null,
   "id": "d69fba99",
   "metadata": {},
   "outputs": [],
   "source": [
    "df = spark.createDataFrame([(1, (2,2))], [\"a\", \"b\"])\n",
    "df.show()\n",
    "df.printSchema(1)\n",
    "df.printSchema(2)"
   ]
  },
  {
   "cell_type": "code",
   "execution_count": null,
   "id": "d37e20f5",
   "metadata": {},
   "outputs": [],
   "source": [
    "df"
   ]
  },
  {
   "cell_type": "code",
   "execution_count": null,
   "id": "6525b978",
   "metadata": {},
   "outputs": [],
   "source": [
    "df.schema"
   ]
  },
  {
   "cell_type": "code",
   "execution_count": null,
   "id": "6c2b3b9d",
   "metadata": {},
   "outputs": [],
   "source": [
    "from pyspark.sql.functions import col,column,expr"
   ]
  },
  {
   "cell_type": "code",
   "execution_count": null,
   "id": "fd16e715",
   "metadata": {},
   "outputs": [],
   "source": [
    "df.a"
   ]
  },
  {
   "cell_type": "code",
   "execution_count": null,
   "id": "8201b70e",
   "metadata": {},
   "outputs": [],
   "source": [
    "df['a']"
   ]
  },
  {
   "cell_type": "code",
   "execution_count": null,
   "id": "9bb95246",
   "metadata": {},
   "outputs": [],
   "source": [
    "df.select(df.a).show()"
   ]
  },
  {
   "cell_type": "code",
   "execution_count": null,
   "id": "00c14eff",
   "metadata": {},
   "outputs": [],
   "source": [
    "df.select(df['a']).show()"
   ]
  },
  {
   "cell_type": "code",
   "execution_count": null,
   "id": "ddadb6a6",
   "metadata": {},
   "outputs": [],
   "source": [
    "df.select(col('a')).show()"
   ]
  },
  {
   "cell_type": "code",
   "execution_count": null,
   "id": "56725c4e",
   "metadata": {},
   "outputs": [],
   "source": [
    "# An expression created via the `expr` function is just a DataFrame column reference\n",
    "# In the simplest case, expr(\"someCol\") is equivalent to col(\"someCol\")\n",
    "expr('a')"
   ]
  },
  {
   "cell_type": "code",
   "execution_count": null,
   "id": "a257c907",
   "metadata": {},
   "outputs": [],
   "source": [
    "# All the below are same! \n",
    "print(expr('a - 5'))\n",
    "print(col('a') - 5)\n",
    "print(expr('a') -5)"
   ]
  },
  {
   "cell_type": "code",
   "execution_count": null,
   "id": "ace29dfc",
   "metadata": {},
   "outputs": [],
   "source": [
    "df.columns"
   ]
  },
  {
   "cell_type": "markdown",
   "id": "e9430c88",
   "metadata": {},
   "source": [
    "### Records and Rows"
   ]
  },
  {
   "cell_type": "code",
   "execution_count": null,
   "id": "1b436888",
   "metadata": {},
   "outputs": [],
   "source": [
    "df.first()"
   ]
  },
  {
   "cell_type": "markdown",
   "id": "f905dec3",
   "metadata": {},
   "source": [
    "### Creating Rows"
   ]
  },
  {
   "cell_type": "code",
   "execution_count": null,
   "id": "c75889a9",
   "metadata": {},
   "outputs": [],
   "source": [
    "from pyspark.sql import Row \n",
    "myRow = Row(\"Hello\", None, 1, False)"
   ]
  },
  {
   "cell_type": "code",
   "execution_count": null,
   "id": "9e0527e8",
   "metadata": {},
   "outputs": [],
   "source": [
    "myRow"
   ]
  },
  {
   "cell_type": "code",
   "execution_count": null,
   "id": "642b3346",
   "metadata": {},
   "outputs": [],
   "source": [
    "df.createOrReplaceTempView(\"dfTable\")"
   ]
  },
  {
   "cell_type": "code",
   "execution_count": null,
   "id": "b93a1e4d",
   "metadata": {},
   "outputs": [],
   "source": [
    "spark.sql(\"select * from dfTable\").show(10)"
   ]
  },
  {
   "cell_type": "markdown",
   "id": "d8ea49c9",
   "metadata": {},
   "source": [
    "### Creating DataFrames"
   ]
  },
  {
   "cell_type": "code",
   "execution_count": null,
   "id": "53b4ef54",
   "metadata": {},
   "outputs": [],
   "source": [
    "from pyspark.sql import Row\n",
    "from pyspark.sql.types import StructType,StructField,StringType,LongType\n",
    "myManualSchema = StructType([\n",
    "    StructField('first_name', StringType(), True),\n",
    "    StructField('last_name', StringType(), True),\n",
    "    StructField('age', LongType(), True)\n",
    "])\n",
    "\n",
    "alice = Row(\"Alice\", \"Henderson\", 25)\n",
    "bob = Row(\"Bob\", \"Sanders\", 28)\n",
    "spark.createDataFrame([alice, bob], myManualSchema).show()"
   ]
  },
  {
   "cell_type": "code",
   "execution_count": null,
   "id": "322f4d61",
   "metadata": {},
   "outputs": [],
   "source": [
    "# pip install sparksql-magic\n",
    "# Load the extension\n",
    "%load_ext sparksql_magic"
   ]
  },
  {
   "cell_type": "code",
   "execution_count": null,
   "id": "22c2b3a5",
   "metadata": {},
   "outputs": [],
   "source": [
    "%%sparksql\n",
    "select * from dfTable limit 250"
   ]
  },
  {
   "cell_type": "markdown",
   "id": "c6c8a951",
   "metadata": {},
   "source": [
    "### select and selectExpr"
   ]
  },
  {
   "cell_type": "code",
   "execution_count": null,
   "id": "13cfc824",
   "metadata": {},
   "outputs": [],
   "source": [
    "df.select('DEST_COUNTRY_NAME', 'ORIGIN_COUNTRY_NAME').show(2, False)"
   ]
  },
  {
   "cell_type": "code",
   "execution_count": null,
   "id": "817ba117",
   "metadata": {},
   "outputs": [],
   "source": [
    "from pyspark.sql.functions import expr, col, column\n",
    "df.select(\n",
    "    expr('DEST_COUNTRY_NAME'),\n",
    "    col('DEST_COUNTRY_NAME'),\n",
    "    column('DEST_COUNTRY_NAME')).show(2)"
   ]
  },
  {
   "cell_type": "code",
   "execution_count": null,
   "id": "091da261",
   "metadata": {},
   "outputs": [],
   "source": [
    "df.select(col('DEST_COUNTRY_NAME'), 'DEST_COUNTRY_NAME')"
   ]
  },
  {
   "cell_type": "code",
   "execution_count": null,
   "id": "100c62cf",
   "metadata": {},
   "outputs": [],
   "source": [
    "df.select(expr('DEST_COUNTRY_NAME as destination')).show(2)"
   ]
  },
  {
   "cell_type": "code",
   "execution_count": null,
   "id": "5fc8f212",
   "metadata": {},
   "outputs": [],
   "source": [
    "df.select(expr('DEST_COUNTRY_NAME as destination').alias('alias_destination')).show(2)"
   ]
  },
  {
   "cell_type": "code",
   "execution_count": null,
   "id": "0c3d24c4",
   "metadata": {},
   "outputs": [],
   "source": [
    "df.selectExpr('DEST_COUNTRY_NAME as destination', 'DEST_COUNTRY_NAME').show(2)"
   ]
  },
  {
   "cell_type": "code",
   "execution_count": null,
   "id": "e0b2060f",
   "metadata": {},
   "outputs": [],
   "source": [
    "df.selectExpr('*', '(DEST_COUNTRY_NAME = ORIGIN_COUNTRY_NAME) as withInCountry').show(10)"
   ]
  },
  {
   "cell_type": "code",
   "execution_count": null,
   "id": "2c22d4f6",
   "metadata": {},
   "outputs": [],
   "source": [
    "# Aggregation over the entire DataFrame\n",
    "df.selectExpr('avg(count)','count(distinct(DEST_COUNTRY_NAME))').show(2)"
   ]
  },
  {
   "cell_type": "markdown",
   "id": "c6a38cc5",
   "metadata": {},
   "source": [
    "### Converting to Spark Types (Literals)"
   ]
  },
  {
   "cell_type": "code",
   "execution_count": null,
   "id": "5acbbcd2",
   "metadata": {},
   "outputs": [],
   "source": [
    "from pyspark.sql.functions import lit\n",
    "df.select('*',lit(1).alias('one')).show(2)"
   ]
  },
  {
   "cell_type": "code",
   "execution_count": null,
   "id": "d430e61b",
   "metadata": {},
   "outputs": [],
   "source": [
    "df.select(expr('*'),lit(1).alias('one')).show(2)"
   ]
  },
  {
   "cell_type": "markdown",
   "id": "af963244",
   "metadata": {},
   "source": [
    "### Adding Columns"
   ]
  },
  {
   "cell_type": "code",
   "execution_count": null,
   "id": "641cb3f2",
   "metadata": {},
   "outputs": [],
   "source": [
    "df.withColumn('one', lit(1)).show(2)"
   ]
  },
  {
   "cell_type": "code",
   "execution_count": null,
   "id": "cb02c24c",
   "metadata": {},
   "outputs": [],
   "source": [
    "# Another way to add a column!\n",
    "df.withColumn('withInCountry', expr('DEST_COUNTRY_NAME = ORIGIN_COUNTRY_NAME')).show(2)"
   ]
  },
  {
   "cell_type": "code",
   "execution_count": null,
   "id": "79b6e8a1",
   "metadata": {},
   "outputs": [],
   "source": [
    "# Another way to rename a column!\n",
    "df.withColumn('destination',expr('DEST_COUNTRY_NAME')).show(2)"
   ]
  },
  {
   "cell_type": "code",
   "execution_count": null,
   "id": "d3aff422",
   "metadata": {},
   "outputs": [],
   "source": [
    "df.withColumnRenamed('DEST_COUNTRY_NAME','destination').columns"
   ]
  },
  {
   "cell_type": "code",
   "execution_count": null,
   "id": "853d6a8b",
   "metadata": {},
   "outputs": [],
   "source": [
    "dfWithLongColName = df.withColumn('Col Name With Space',expr('DEST_COUNTRY_NAME'))"
   ]
  },
  {
   "cell_type": "code",
   "execution_count": null,
   "id": "e645c3e2",
   "metadata": {},
   "outputs": [],
   "source": [
    "dfWithLongColName.show(2)"
   ]
  },
  {
   "cell_type": "code",
   "execution_count": null,
   "id": "225ff6f8",
   "metadata": {},
   "outputs": [],
   "source": [
    "dfWithLongColName.selectExpr('`Col Name With Space`', '`Col Name With Space` as `new col`').show(2)"
   ]
  },
  {
   "cell_type": "code",
   "execution_count": null,
   "id": "b293ff5c",
   "metadata": {},
   "outputs": [],
   "source": [
    "dfWithLongColName.select(col('Col Name With Space')).show(2)"
   ]
  },
  {
   "cell_type": "code",
   "execution_count": null,
   "id": "7e6238f2",
   "metadata": {},
   "outputs": [],
   "source": [
    "# We need to escape expressions that use reserved characters/keywords\n",
    "dfWithLongColName.select(expr('`Col Name With Space`')).show(2)"
   ]
  },
  {
   "cell_type": "code",
   "execution_count": null,
   "id": "75f0dc2b",
   "metadata": {},
   "outputs": [],
   "source": [
    "df.printSchema"
   ]
  },
  {
   "cell_type": "code",
   "execution_count": null,
   "id": "c1940c33",
   "metadata": {},
   "outputs": [],
   "source": [
    "df.withColumn('count2', col('count').cast('int')).printSchema"
   ]
  },
  {
   "cell_type": "code",
   "execution_count": null,
   "id": "24d21ab3",
   "metadata": {},
   "outputs": [],
   "source": [
    "# df.filter(col('count') < 2).show(2)\n",
    "# df.filter(expr('count') < 2).show(2)\n",
    "df.filter(expr('count < 2')).show(2)"
   ]
  },
  {
   "cell_type": "code",
   "execution_count": null,
   "id": "281c6631",
   "metadata": {},
   "outputs": [],
   "source": [
    "df.where('count < 2').show(2)"
   ]
  },
  {
   "cell_type": "code",
   "execution_count": null,
   "id": "35e45ca9",
   "metadata": {},
   "outputs": [],
   "source": [
    "df.where(col('count') < 2).show(2)"
   ]
  },
  {
   "cell_type": "code",
   "execution_count": null,
   "id": "d9c45496",
   "metadata": {},
   "outputs": [],
   "source": [
    "df.where(col('count') < 2)\\\n",
    "    .where(\"ORIGIN_COUNTRY_NAME != 'Croatia'\")\\\n",
    "    .show(2)"
   ]
  },
  {
   "cell_type": "code",
   "execution_count": null,
   "id": "9e601e2c",
   "metadata": {},
   "outputs": [],
   "source": [
    "df.where(col('count') < 2).where(col('ORIGIN_COUNTRY_NAME') != 'Croatia').show(2)"
   ]
  },
  {
   "cell_type": "code",
   "execution_count": null,
   "id": "ec75b07f",
   "metadata": {},
   "outputs": [],
   "source": [
    "df.select('DEST_COUNTRY_NAME','ORIGIN_COUNTRY_NAME').distinct().count()"
   ]
  },
  {
   "cell_type": "code",
   "execution_count": null,
   "id": "56734881",
   "metadata": {},
   "outputs": [],
   "source": [
    "df.select('ORIGIN_COUNTRY_NAME').distinct().count()"
   ]
  },
  {
   "cell_type": "markdown",
   "id": "6774e60f",
   "metadata": {},
   "source": [
    "### Random Samples"
   ]
  },
  {
   "cell_type": "code",
   "execution_count": null,
   "id": "be25518d",
   "metadata": {},
   "outputs": [],
   "source": [
    "# sampling without replacement, in which a subset of the observations is selected randomly, and once an observation is selected it cannot be selected again. \n",
    "# sampling with replacement, in which a subset of observations are selected randomly, and an observation may be selected more than once.\n",
    "df.sample(False,.9).count()"
   ]
  },
  {
   "cell_type": "markdown",
   "id": "74f251f1",
   "metadata": {},
   "source": [
    "### Concatenating and Appending Rows (Union)"
   ]
  },
  {
   "cell_type": "code",
   "execution_count": null,
   "id": "212101e3",
   "metadata": {},
   "outputs": [],
   "source": [
    "from pyspark.sql import Row\n",
    "\n",
    "lastRow = Row('New Country', 'New Country', 1)\n",
    "newDF = spark.createDataFrame([lastRow], df.schema)\n",
    "df.union(newDF).where('DEST_COUNTRY_NAME = ORIGIN_COUNTRY_NAME').show(300)"
   ]
  },
  {
   "cell_type": "markdown",
   "id": "985fa30e",
   "metadata": {},
   "source": [
    "### Sorting Rows"
   ]
  },
  {
   "cell_type": "code",
   "execution_count": null,
   "id": "43f48139",
   "metadata": {},
   "outputs": [],
   "source": [
    "df.sort('count').show(5)"
   ]
  },
  {
   "cell_type": "code",
   "execution_count": null,
   "id": "ffd437e6",
   "metadata": {},
   "outputs": [],
   "source": [
    "df.orderBy('count','DEST_COUNTRY_NAME').show(5)"
   ]
  },
  {
   "cell_type": "code",
   "execution_count": null,
   "id": "204eb96f",
   "metadata": {},
   "outputs": [],
   "source": [
    "df.orderBy(col('count'), col('DEST_COUNTRY_NAME')).show(5)"
   ]
  },
  {
   "cell_type": "code",
   "execution_count": null,
   "id": "0bacc696",
   "metadata": {},
   "outputs": [],
   "source": [
    "df.orderBy(expr('count desc')).show(5)"
   ]
  },
  {
   "cell_type": "code",
   "execution_count": null,
   "id": "7c33bb51",
   "metadata": {},
   "outputs": [],
   "source": [
    "df.orderBy(col('count').desc(), col('DEST_COUNTRY_NAME').asc()).show(5)"
   ]
  },
  {
   "cell_type": "code",
   "execution_count": null,
   "id": "a8ed9467",
   "metadata": {},
   "outputs": [],
   "source": [
    "# For optimization purposes, it's sometimes advisable to sort within each partition before\n",
    "# another set of transformations\n",
    "spark.read \\\n",
    "        .format(\"json\") \\\n",
    "        .load(\"/Applications/MAMP/htdocs/Spark-The-Definitive-Guide/data/flight-data/json/*-summary.json\")\\\n",
    "        .sortWithinPartitions('count')"
   ]
  },
  {
   "cell_type": "markdown",
   "id": "66aa600b",
   "metadata": {},
   "source": [
    "### Repartition & Coalesce\n",
    "#### https://mrpowers.medium.com/managing-spark-partitions-with-coalesce-and-repartition-4050c57ad5c4"
   ]
  },
  {
   "cell_type": "code",
   "execution_count": null,
   "id": "8e8c41a8",
   "metadata": {},
   "outputs": [],
   "source": [
    "df.rdd.getNumPartitions()"
   ]
  },
  {
   "cell_type": "code",
   "execution_count": null,
   "id": "90535a91",
   "metadata": {},
   "outputs": [],
   "source": [
    "df.repartition(5)"
   ]
  },
  {
   "cell_type": "code",
   "execution_count": null,
   "id": "935fdd41",
   "metadata": {},
   "outputs": [],
   "source": [
    "rangeDF=spark.range(10)"
   ]
  },
  {
   "cell_type": "code",
   "execution_count": null,
   "id": "444b53f3",
   "metadata": {},
   "outputs": [],
   "source": [
    "rangeDF.rdd.getNumPartitions()"
   ]
  },
  {
   "cell_type": "code",
   "execution_count": null,
   "id": "99ba3188",
   "metadata": {},
   "outputs": [],
   "source": [
    "rangeDF.write.csv('/Users/deepakagrawal/Desktop/data', 'overwrite')"
   ]
  },
  {
   "cell_type": "code",
   "execution_count": null,
   "id": "0c9c71d0",
   "metadata": {},
   "outputs": [],
   "source": [
    "increasedPartitionedDF=rangeDF.repartition(6)"
   ]
  },
  {
   "cell_type": "code",
   "execution_count": null,
   "id": "be4127d5",
   "metadata": {},
   "outputs": [],
   "source": [
    "increasedPartitionedDF.write.csv('/Users/deepakagrawal/Desktop/data', 'overwrite')"
   ]
  },
  {
   "cell_type": "markdown",
   "id": "ec968112",
   "metadata": {},
   "source": [
    "## Chapter 6"
   ]
  },
  {
   "cell_type": "code",
   "execution_count": 14,
   "id": "6ee9c44c",
   "metadata": {},
   "outputs": [],
   "source": [
    "\n",
    "df = spark.read.format('csv') \\\n",
    "          .option('header', 'true') \\\n",
    "          .option('inferSchema','true') \\\n",
    "          .load(\"/Applications/MAMP/htdocs/Spark-The-Definitive-Guide/data/retail-data/by-day/2010-12-01.csv\")"
   ]
  },
  {
   "cell_type": "code",
   "execution_count": 15,
   "id": "e46169f0",
   "metadata": {},
   "outputs": [
    {
     "name": "stdout",
     "output_type": "stream",
     "text": [
      "root\n",
      " |-- InvoiceNo: string (nullable = true)\n",
      " |-- StockCode: string (nullable = true)\n",
      " |-- Description: string (nullable = true)\n",
      " |-- Quantity: integer (nullable = true)\n",
      " |-- InvoiceDate: timestamp (nullable = true)\n",
      " |-- UnitPrice: double (nullable = true)\n",
      " |-- CustomerID: double (nullable = true)\n",
      " |-- Country: string (nullable = true)\n",
      "\n"
     ]
    }
   ],
   "source": [
    "df.printSchema()"
   ]
  },
  {
   "cell_type": "code",
   "execution_count": 25,
   "id": "bc189613",
   "metadata": {},
   "outputs": [
    {
     "data": {
      "text/plain": [
       "[StructField('InvoiceNo', StringType(), True),\n",
       " StructField('StockCode', StringType(), True),\n",
       " StructField('Description', StringType(), True),\n",
       " StructField('Quantity', IntegerType(), True),\n",
       " StructField('InvoiceDate', TimestampType(), True),\n",
       " StructField('UnitPrice', DoubleType(), True),\n",
       " StructField('CustomerID', DoubleType(), True),\n",
       " StructField('Country', StringType(), True)]"
      ]
     },
     "execution_count": 25,
     "metadata": {},
     "output_type": "execute_result"
    }
   ],
   "source": [
    "df.schema.fields"
   ]
  },
  {
   "cell_type": "code",
   "execution_count": 6,
   "id": "e150aa05",
   "metadata": {},
   "outputs": [
    {
     "data": {
      "text/plain": [
       "['InvoiceNo',\n",
       " 'StockCode',\n",
       " 'Description',\n",
       " 'Quantity',\n",
       " 'InvoiceDate',\n",
       " 'UnitPrice',\n",
       " 'CustomerID',\n",
       " 'Country']"
      ]
     },
     "execution_count": 6,
     "metadata": {},
     "output_type": "execute_result"
    }
   ],
   "source": [
    "df.columns"
   ]
  },
  {
   "cell_type": "code",
   "execution_count": 9,
   "id": "4c16d954",
   "metadata": {},
   "outputs": [
    {
     "data": {
      "text/plain": [
       "DataFrame[summary: string, InvoiceNo: string, StockCode: string, Description: string, Quantity: string, UnitPrice: string, CustomerID: string, Country: string]"
      ]
     },
     "execution_count": 9,
     "metadata": {},
     "output_type": "execute_result"
    }
   ],
   "source": [
    "df.describe()"
   ]
  },
  {
   "cell_type": "code",
   "execution_count": null,
   "id": "148230d6",
   "metadata": {},
   "outputs": [],
   "source": [
    "df.createOrReplaceTempView('dfTable')"
   ]
  },
  {
   "cell_type": "code",
   "execution_count": null,
   "id": "417bf35e",
   "metadata": {},
   "outputs": [],
   "source": [
    "df.show(10, False)"
   ]
  },
  {
   "cell_type": "code",
   "execution_count": null,
   "id": "085d5b3d",
   "metadata": {},
   "outputs": [],
   "source": [
    "df.select(lit(5), lit(\"five\"), lit(5.0)).printSchema()"
   ]
  },
  {
   "cell_type": "code",
   "execution_count": null,
   "id": "852fa48a",
   "metadata": {},
   "outputs": [],
   "source": [
    "df.select(lit(5), lit(\"five\"), lit(5.0)).show(10)"
   ]
  },
  {
   "cell_type": "code",
   "execution_count": null,
   "id": "b4005637",
   "metadata": {},
   "outputs": [],
   "source": [
    "lit('first_name')"
   ]
  },
  {
   "cell_type": "code",
   "execution_count": null,
   "id": "c0f1ae89",
   "metadata": {},
   "outputs": [],
   "source": [
    "col('first_name')"
   ]
  },
  {
   "cell_type": "code",
   "execution_count": null,
   "id": "a2baf5b6",
   "metadata": {},
   "outputs": [],
   "source": [
    "column('first_name')"
   ]
  },
  {
   "cell_type": "code",
   "execution_count": null,
   "id": "ab5bcdfe",
   "metadata": {},
   "outputs": [],
   "source": [
    "expr('first_name')"
   ]
  },
  {
   "cell_type": "code",
   "execution_count": 33,
   "id": "de6f1970",
   "metadata": {},
   "outputs": [
    {
     "name": "stdout",
     "output_type": "stream",
     "text": [
      "CREATE TABLE my_table (InvoiceNo TEXT, StockCode TEXT, Description TEXT, Quantity INTEGER, InvoiceDate TIMESTAMP, UnitPrice DOUBLE PRECISION, CustomerID DOUBLE PRECISION, Country TEXT)\n"
     ]
    }
   ],
   "source": [
    "def spark_to_postgres_type(spark_type):\n",
    "    if spark_type == 'string':\n",
    "        return 'TEXT'\n",
    "    elif spark_type == 'integer':\n",
    "        return 'INTEGER'\n",
    "    elif spark_type == 'long':\n",
    "        return 'BIGINT'\n",
    "    elif spark_type == 'float':\n",
    "        return 'REAL'\n",
    "    elif spark_type == 'double':\n",
    "        return 'DOUBLE PRECISION'\n",
    "    elif spark_type == 'boolean':\n",
    "        return 'BOOLEAN'\n",
    "    elif spark_type == 'date':\n",
    "        return 'DATE'\n",
    "    elif spark_type == 'timestamp':\n",
    "        return 'TIMESTAMP'\n",
    "    else:\n",
    "        return 'TEXT'\n",
    "\n",
    "table_name = 'my_table'\n",
    "create_table_sql = f\"CREATE TABLE {table_name} (\"\n",
    "for field in df.schema.fields:\n",
    "    field_name = field.name\n",
    "    field_type = field.dataType.typeName()\n",
    "    postgres_field_type = spark_to_postgres_type(field_type)\n",
    "    create_table_sql += f\"{field_name} {postgres_field_type}, \"\n",
    "\n",
    "create_table_sql = create_table_sql[:-2] # Remove the last comma and the space\n",
    "create_table_sql += ')'\n",
    "print(create_table_sql)"
   ]
  },
  {
   "cell_type": "code",
   "execution_count": null,
   "id": "9c653f45",
   "metadata": {},
   "outputs": [],
   "source": []
  },
  {
   "cell_type": "code",
   "execution_count": null,
   "id": "45ed4f74",
   "metadata": {},
   "outputs": [],
   "source": []
  }
 ],
 "metadata": {
  "kernelspec": {
   "display_name": "Python 3 (ipykernel)",
   "language": "python",
   "name": "python3"
  },
  "language_info": {
   "codemirror_mode": {
    "name": "ipython",
    "version": 3
   },
   "file_extension": ".py",
   "mimetype": "text/x-python",
   "name": "python",
   "nbconvert_exporter": "python",
   "pygments_lexer": "ipython3",
   "version": "3.9.12"
  }
 },
 "nbformat": 4,
 "nbformat_minor": 5
}
